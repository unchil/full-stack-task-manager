{
 "cells": [
  {
   "cell_type": "code",
   "execution_count": 1,
   "id": "4925a76b-2e12-49cf-8576-4044598c4ac3",
   "metadata": {},
   "outputs": [],
   "source": [
    "import pandas as pd"
   ]
  },
  {
   "cell_type": "code",
   "execution_count": null,
   "id": "0bd16641-7076-423e-a85d-ed4966cd4a54",
   "metadata": {},
   "outputs": [],
   "source": [
    "해양수산부\n",
    "https://www.mof.go.kr"
   ]
  },
  {
   "cell_type": "code",
   "execution_count": 44,
   "id": "b9e23248-793e-47fa-926a-0598d797ebcb",
   "metadata": {},
   "outputs": [],
   "source": [
    "confFile = \"/Users/unchil/AndroidStudioProjects/full-stack-task-manager/client/src/main/resources/application.json\"\n",
    "df_conf = pd.read_json(confFile)"
   ]
  },
  {
   "cell_type": "code",
   "execution_count": 45,
   "id": "a8d7c33e-7f68-4ff7-990a-1f399a90c073",
   "metadata": {},
   "outputs": [
    {
     "data": {
      "text/plain": [
       "'2025-09-29 15:02:57'"
      ]
     },
     "execution_count": 45,
     "metadata": {},
     "output_type": "execute_result"
    }
   ],
   "source": [
    "from datetime import datetime, timedelta\n",
    "from urllib.parse import quote\n",
    "\n",
    "now = datetime.now()\n",
    "one_day_ago = now - timedelta(days=1)\n",
    "previous24Hour = one_day_ago.strftime(\"%Y-%m-%d %H:%M:%S\")\n",
    "previous24Hour"
   ]
  },
  {
   "cell_type": "code",
   "execution_count": 46,
   "id": "bfa69952-5070-4b3a-acc0-ee626bdde7ed",
   "metadata": {},
   "outputs": [],
   "source": [
    "url = f\"{df_conf.MOF_API[0]['endPoint']}/{df_conf.MOF_API[0]['subPath']}?ServiceKey={df_conf.MOF_API[0]['apikey']}&numOfRows=1000&pageNo=1&wtch_dt_start={quote(previous24Hour)}\""
   ]
  },
  {
   "cell_type": "code",
   "execution_count": null,
   "id": "f01e9c37-cca1-49a2-8fd1-906d107dda9c",
   "metadata": {},
   "outputs": [],
   "source": [
    "df_row = pd.read_xml(url,  encoding='euc-kr')\n",
    "df = pd.DataFrame(df_row.body[\"item\"])\n",
    "df"
   ]
  }
 ],
 "metadata": {
  "kernelspec": {
   "display_name": "Python 3 (ipykernel)",
   "language": "python",
   "name": "python3"
  },
  "language_info": {
   "codemirror_mode": {
    "name": "ipython",
    "version": 3
   },
   "file_extension": ".py",
   "mimetype": "text/x-python",
   "name": "python",
   "nbconvert_exporter": "python",
   "pygments_lexer": "ipython3",
   "version": "3.12.8"
  }
 },
 "nbformat": 4,
 "nbformat_minor": 5
}
